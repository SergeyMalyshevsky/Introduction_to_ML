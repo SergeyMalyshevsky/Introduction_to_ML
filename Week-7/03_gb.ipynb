{
 "cells": [
  {
   "cell_type": "markdown",
   "metadata": {},
   "source": [
    "# Подход 1: градиентный бустинг \"в лоб\""
   ]
  },
  {
   "cell_type": "code",
   "execution_count": 1,
   "metadata": {},
   "outputs": [],
   "source": [
    "import pandas\n",
    "import numpy as np\n",
    "import time\n",
    "import datetime\n",
    "import matplotlib.pyplot as plt\n",
    "from sklearn.model_selection import KFold, cross_val_score, train_test_split\n",
    "from sklearn.ensemble import GradientBoostingClassifier\n",
    "from sklearn.metrics import roc_auc_score"
   ]
  },
  {
   "cell_type": "code",
   "execution_count": 2,
   "metadata": {},
   "outputs": [],
   "source": [
    "%matplotlib inline"
   ]
  },
  {
   "cell_type": "code",
   "execution_count": 3,
   "metadata": {},
   "outputs": [],
   "source": [
    "def get_clean_data(cleaner_name='clean'):\n",
    "    path = './clean/' + cleaner_name\n",
    "    X_train = pandas.read_csv(path + '/X_train.csv', index_col='match_id')\n",
    "    y_train = pandas.read_csv(path + '/y_train.csv', index_col='match_id')\n",
    "    X_test = pandas.read_csv(path + '/X_test.csv', index_col='match_id')\n",
    "    return X_train, y_train['radiant_win'], X_test"
   ]
  },
  {
   "cell_type": "code",
   "execution_count": 4,
   "metadata": {},
   "outputs": [],
   "source": [
    "X, y, X_kaggle = get_clean_data()\n",
    "kf = KFold(n_splits=5, shuffle=True, random_state=42)"
   ]
  },
  {
   "cell_type": "markdown",
   "metadata": {},
   "source": [
    "### Подбираем оптимальное число деревьев"
   ]
  },
  {
   "cell_type": "code",
   "execution_count": 5,
   "metadata": {},
   "outputs": [
    {
     "name": "stdout",
     "output_type": "stream",
     "text": [
      "n_estimators: 10\n",
      "Time elapsed: 0:01:57.435205\n",
      "[0.66383799 0.66635457 0.66360048 0.66529818 0.66516222]\n",
      "n_estimators: 20\n",
      "Time elapsed: 0:04:32.576968\n",
      "[0.68083889 0.68272733 0.67969876 0.6834932  0.6855512 ]\n",
      "n_estimators: 30\n",
      "Time elapsed: 0:16:15.390591\n",
      "[0.68892093 0.68934663 0.68712298 0.69180598 0.69283583]\n",
      "n_estimators: 40\n",
      "Time elapsed: 0:13:26.646861\n",
      "[0.69264125 0.69335305 0.69153074 0.69586466 0.69680392]\n",
      "n_estimators: 50\n",
      "Time elapsed: 0:09:24.033646\n",
      "[0.69627399 0.69747879 0.69470891 0.69921915 0.69979097]\n"
     ]
    }
   ],
   "source": [
    "scores = []\n",
    "nums = [10, 20, 30, 40, 50]\n",
    "for n in nums:\n",
    "    print('n_estimators:', str(n))\n",
    "    model = GradientBoostingClassifier(n_estimators=n, random_state=42)\n",
    "    start_time = datetime.datetime.now()\n",
    "    model_scores = cross_val_score(model, X, y, cv=kf, scoring='roc_auc')\n",
    "    print('Time elapsed:', datetime.datetime.now() - start_time)\n",
    "    print(model_scores)\n",
    "    scores.append(np.mean(model_scores))"
   ]
  },
  {
   "cell_type": "code",
   "execution_count": 7,
   "metadata": {},
   "outputs": [
    {
     "data": {
      "image/png": "[encoded data removed]",
      "text/plain": [
       "<Figure size 432x288 with 1 Axes>"
      ]
     },
     "metadata": {
      "needs_background": "light"
     },
     "output_type": "display_data"
    }
   ],
   "source": [
    "plt.plot(nums, scores)\n",
    "plt.xlabel('n_estimators')\n",
    "plt.ylabel('score')\n",
    "plt.show()"
   ]
  },
  {
   "cell_type": "markdown",
   "metadata": {},
   "source": [
    "##### Как долго проводилась кросс-валидация для градиентного бустинга с 30 деревьями? Инструкцию по измерению времени можно найти выше по тексту. Какое качество при этом получилось?"
   ]
  },
  {
   "cell_type": "markdown",
   "metadata": {},
   "source": [
    "Кросс-валидация для градиентного бустинга с 30 деревьями заняла 0:16:15. Показатель метрики качества AUC-ROC в таком случае равен 0.69."
   ]
  },
  {
   "cell_type": "markdown",
   "metadata": {},
   "source": [
    "##### Имеет ли смысл использовать больше 30 деревьев в градиентном бустинге? Что можно сделать, чтобы ускорить его обучение при увеличении количества деревьев?"
   ]
  },
  {
   "cell_type": "markdown",
   "metadata": {},
   "source": [
    "Дa, имеет смысл использовать более 30 деревьев. Увеличение количества деревьев также увеличивает показатель метрики AUC-ROC. Он стремится к 0.7.  \n",
    "Для ускорения обучения можно уменьшить глубину деревьев (max_depth) или можно использовать не всю выборку, а некоторое ее подмножество."
   ]
  }
 ],
 "metadata": {
  "kernelspec": {
   "display_name": "Python 3",
   "language": "python",
   "name": "python3"
  },
  "language_info": {
   "codemirror_mode": {
    "name": "ipython",
    "version": 3
   },
   "file_extension": ".py",
   "mimetype": "text/x-python",
   "name": "python",
   "nbconvert_exporter": "python",
   "pygments_lexer": "ipython3",
   "version": "3.7.2"
  }
 },
 "nbformat": 4,
 "nbformat_minor": 2
}
