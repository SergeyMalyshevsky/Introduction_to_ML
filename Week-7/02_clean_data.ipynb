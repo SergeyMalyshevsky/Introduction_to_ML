{
 "cells": [
  {
   "cell_type": "markdown",
   "metadata": {},
   "source": [
    "# Предварительная обработка данных"
   ]
  },
  {
   "cell_type": "code",
   "execution_count": 22,
   "metadata": {},
   "outputs": [],
   "source": [
    "import os\n",
    "import sys\n",
    "import pandas\n",
    "import numpy as np"
   ]
  },
  {
   "cell_type": "code",
   "execution_count": 23,
   "metadata": {},
   "outputs": [],
   "source": [
    "def save_clean_data(cleaner, X_train, y_train, X_test, folder='default'):\n",
    "    clean_folder_path = './clean/'\n",
    "    path = clean_folder_path + folder\n",
    "    if not os.path.exists(path):\n",
    "        os.makedirs(path)\n",
    "\n",
    "    y_train.to_csv(path + '/y_train.csv')\n",
    "    cleaner(X_train).to_csv(path + '/X_train.csv')\n",
    "    cleaner(X_test).to_csv(path + '/X_test.csv')"
   ]
  },
  {
   "cell_type": "code",
   "execution_count": 24,
   "metadata": {},
   "outputs": [],
   "source": [
    "def clean(X):\n",
    "    \"\"\" Меняем пропуски на 0 \"\"\"\n",
    "    return X.fillna(0)"
   ]
  },
  {
   "cell_type": "code",
   "execution_count": 25,
   "metadata": {},
   "outputs": [],
   "source": [
    "def clean_category(X):\n",
    "    \"\"\" Удаляем 11 категориальных признаков \"\"\"\n",
    "    X = clean(X)\n",
    "    del X['lobby_type']\n",
    "    for n in range(1, 6):\n",
    "        del X['r{}_hero'.format(n)]\n",
    "        del X['d{}_hero'.format(n)]\n",
    "\n",
    "    return X"
   ]
  },
  {
   "cell_type": "code",
   "execution_count": 26,
   "metadata": {},
   "outputs": [],
   "source": [
    "def hero_bag(X):\n",
    "    \"\"\" Формируем мешок слов по героям \"\"\"\n",
    "    heroes = pandas.read_csv('./dictionaries/heroes.csv')\n",
    "    X_pick = np.zeros((X.shape[0], len(heroes)))\n",
    "    for i, match_id in enumerate(X.index):\n",
    "        for p in range(5):\n",
    "            X_pick[i, X.loc[match_id, 'r%d_hero' % (p+1)]-1] = 1\n",
    "            X_pick[i, X.loc[match_id, 'd%d_hero' % (p+1)]-1] = -1\n",
    "\n",
    "    return pandas.DataFrame(X_pick, index=X.index)"
   ]
  },
  {
   "cell_type": "markdown",
   "metadata": {},
   "source": [
    "### Загружаем данные"
   ]
  },
  {
   "cell_type": "code",
   "execution_count": 27,
   "metadata": {},
   "outputs": [],
   "source": [
    "train = pandas.read_csv('./features.csv', index_col='match_id')\n",
    "test = pandas.read_csv('./features_test.csv', index_col='match_id')"
   ]
  },
  {
   "cell_type": "markdown",
   "metadata": {},
   "source": [
    "### Удаляем признаки, связанные с итогами матча"
   ]
  },
  {
   "cell_type": "code",
   "execution_count": 28,
   "metadata": {},
   "outputs": [],
   "source": [
    "train.drop(['duration', \n",
    "         'tower_status_radiant', \n",
    "         'tower_status_dire', \n",
    "         'barracks_status_radiant', \n",
    "         'barracks_status_dire'\n",
    "        ], axis=1, inplace=True)"
   ]
  },
  {
   "cell_type": "markdown",
   "metadata": {},
   "source": [
    "### Разделяем датасет на признаки и целевую переменную"
   ]
  },
  {
   "cell_type": "markdown",
   "metadata": {},
   "source": [
    "##### Как называется столбец, содержащий целевую переменную?"
   ]
  },
  {
   "cell_type": "markdown",
   "metadata": {},
   "source": [
    "radiant_win - итог матча: 1, если победила команда Radiant, 0 — иначе"
   ]
  },
  {
   "cell_type": "code",
   "execution_count": 29,
   "metadata": {},
   "outputs": [],
   "source": [
    "X = train\n",
    "y = train['radiant_win'].to_frame()\n",
    "del train['radiant_win']"
   ]
  },
  {
   "cell_type": "code",
   "execution_count": 30,
   "metadata": {},
   "outputs": [],
   "source": [
    "save_clean_data(clean, X, y, test, folder=\"clean\")"
   ]
  },
  {
   "cell_type": "code",
   "execution_count": 31,
   "metadata": {},
   "outputs": [],
   "source": [
    "save_clean_data(clean_category, X, y, test, folder='clean_category')"
   ]
  },
  {
   "cell_type": "code",
   "execution_count": 32,
   "metadata": {},
   "outputs": [],
   "source": [
    "save_clean_data(hero_bag, X, y, test, folder='hero_bag')"
   ]
  }
 ],
 "metadata": {
  "kernelspec": {
   "display_name": "Python 3",
   "language": "python",
   "name": "python3"
  },
  "language_info": {
   "codemirror_mode": {
    "name": "ipython",
    "version": 3
   },
   "file_extension": ".py",
   "mimetype": "text/x-python",
   "name": "python",
   "nbconvert_exporter": "python",
   "pygments_lexer": "ipython3",
   "version": "3.7.2"
  }
 },
 "nbformat": 4,
 "nbformat_minor": 2
}
