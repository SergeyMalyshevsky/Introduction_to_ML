{
 "cells": [
  {
   "cell_type": "code",
   "execution_count": 3,
   "metadata": {},
   "outputs": [],
   "source": [
    "import pandas\n",
    "\n",
    "import sys\n",
    "sys.path.append(\"../..\")\n",
    "from write_answer import write_answer"
   ]
  },
  {
   "cell_type": "code",
   "execution_count": 4,
   "metadata": {},
   "outputs": [],
   "source": [
    "data = pandas.read_csv('titanic.csv', index_col='PassengerId')"
   ]
  },
  {
   "cell_type": "code",
   "execution_count": 5,
   "metadata": {},
   "outputs": [
    {
     "name": "stdout",
     "output_type": "stream",
     "text": [
      "Male/female:\n",
      "Answer 1:  male      577\n",
      "female    314\n",
      "Name: Sex, dtype: int64\n"
     ]
    }
   ],
   "source": [
    "sex = data.Sex.value_counts(0)\n",
    "print(\"Male/female:\")\n",
    "write_answer(1, sex)"
   ]
  },
  {
   "cell_type": "code",
   "execution_count": 6,
   "metadata": {},
   "outputs": [
    {
     "name": "stdout",
     "output_type": "stream",
     "text": [
      "Survived:\n",
      "Answer 2:  0    0.616162\n",
      "1    0.383838\n",
      "Name: Survived, dtype: float64\n"
     ]
    }
   ],
   "source": [
    "survived = data.Survived.value_counts(1)\n",
    "print(\"Survived:\")\n",
    "write_answer(2, survived)"
   ]
  },
  {
   "cell_type": "code",
   "execution_count": 7,
   "metadata": {},
   "outputs": [
    {
     "name": "stdout",
     "output_type": "stream",
     "text": [
      "firstClass:\n",
      "Answer 3:  3    0.551066\n",
      "1    0.242424\n",
      "2    0.206510\n",
      "Name: Pclass, dtype: float64\n"
     ]
    }
   ],
   "source": [
    "firstClass = data.Pclass.value_counts(1)\n",
    "print(\"firstClass:\")\n",
    "write_answer(3, firstClass)"
   ]
  },
  {
   "cell_type": "code",
   "execution_count": 8,
   "metadata": {},
   "outputs": [
    {
     "name": "stdout",
     "output_type": "stream",
     "text": [
      "Median age:\n",
      "Answer 4:  28.0\n"
     ]
    }
   ],
   "source": [
    "dataMedian = data.Age.median()\n",
    "print(\"Median age:\")\n",
    "write_answer(4, dataMedian)"
   ]
  },
  {
   "cell_type": "code",
   "execution_count": 9,
   "metadata": {},
   "outputs": [
    {
     "name": "stdout",
     "output_type": "stream",
     "text": [
      "Avg age:\n",
      "Answer 5:  29.69911764705882\n"
     ]
    }
   ],
   "source": [
    "dataAge = data.Age.mean()\n",
    "print(\"Avg age:\")\n",
    "write_answer(5, dataAge)"
   ]
  },
  {
   "cell_type": "code",
   "execution_count": 10,
   "metadata": {},
   "outputs": [
    {
     "name": "stdout",
     "output_type": "stream",
     "text": [
      "Answer 6:  0.41483769862015646\n"
     ]
    }
   ],
   "source": [
    "pearson = data.SibSp.corr(data.Parch)\n",
    "write_answer(6, pearson)"
   ]
  },
  {
   "cell_type": "code",
   "execution_count": 11,
   "metadata": {},
   "outputs": [
    {
     "name": "stdout",
     "output_type": "stream",
     "text": [
      "PassengerId\n",
      "2      Cumings, Mrs. John Bradley (Florence Briggs Th...\n",
      "3                                 Heikkinen, Miss. Laina\n",
      "4           Futrelle, Mrs. Jacques Heath (Lily May Peel)\n",
      "9      Johnson, Mrs. Oscar W (Elisabeth Vilhelmina Berg)\n",
      "10                   Nasser, Mrs. Nicholas (Adele Achem)\n",
      "11                       Sandstrom, Miss. Marguerite Rut\n",
      "12                              Bonnell, Miss. Elizabeth\n",
      "15                  Vestrom, Miss. Hulda Amanda Adolfina\n",
      "16                      Hewlett, Mrs. (Mary D Kingcome) \n",
      "19     Vander Planke, Mrs. Julius (Emelia Maria Vande...\n",
      "20                               Masselmani, Mrs. Fatima\n",
      "23                           McGowan, Miss. Anna \"Annie\"\n",
      "25                         Palsson, Miss. Torborg Danira\n",
      "26     Asplund, Mrs. Carl Oscar (Selma Augusta Emilia...\n",
      "29                         O'Dwyer, Miss. Ellen \"Nellie\"\n",
      "32        Spencer, Mrs. William Augustus (Marie Eugenie)\n",
      "33                              Glynn, Miss. Mary Agatha\n",
      "39                    Vander Planke, Miss. Augusta Maria\n",
      "40                           Nicola-Yarred, Miss. Jamila\n",
      "41        Ahlin, Mrs. Johan (Johanna Persdotter Larsson)\n",
      "42     Turpin, Mrs. William John Robert (Dorothy Ann ...\n",
      "44              Laroche, Miss. Simonne Marie Anne Andree\n",
      "45                         Devaney, Miss. Margaret Delia\n",
      "48                             O'Driscoll, Miss. Bridget\n",
      "50         Arnold-Franchi, Mrs. Josef (Josefine Franchi)\n",
      "53              Harper, Mrs. Henry Sleeper (Myna Haxtun)\n",
      "54     Faunthorpe, Mrs. Lizzie (Elizabeth Anne Wilkin...\n",
      "57                                     Rugg, Miss. Emily\n",
      "59                          West, Miss. Constance Mirium\n",
      "62                                   Icard, Miss. Amelie\n",
      "                             ...                        \n",
      "808                      Pettersson, Miss. Ellen Natalia\n",
      "810       Chambers, Mrs. Norman Campbell (Bertha Griggs)\n",
      "814                   Andersson, Miss. Ebba Iris Alfrida\n",
      "817                         Heininen, Miss. Wendla Maria\n",
      "821    Hays, Mrs. Charles Melville (Clara Jennings Gr...\n",
      "824                                   Moor, Mrs. (Beila)\n",
      "830            Stone, Mrs. George Nelson (Martha Evelyn)\n",
      "831              Yasbeck, Mrs. Antoni (Selini Alexander)\n",
      "836                          Compton, Miss. Sara Rebecca\n",
      "843                              Serepeca, Miss. Augusta\n",
      "850         Goldenberg, Mrs. Samuel L (Edwiga Grabowska)\n",
      "853                              Boulos, Miss. Nourelain\n",
      "854                            Lines, Miss. Mary Conover\n",
      "855        Carter, Mrs. Ernest Courtenay (Lilian Hughes)\n",
      "856                           Aks, Mrs. Sam (Leah Rosen)\n",
      "857           Wick, Mrs. George Dennick (Mary Hitchcock)\n",
      "859                Baclini, Mrs. Solomon (Latifa Qurban)\n",
      "863    Swift, Mrs. Frederick Joel (Margaret Welles Ba...\n",
      "864                    Sage, Miss. Dorothy Edith \"Dolly\"\n",
      "866                             Bystrom, Mrs. (Karolina)\n",
      "867                         Duran y More, Miss. Asuncion\n",
      "872     Beckwith, Mrs. Richard Leonard (Sallie Monypeny)\n",
      "875                Abelson, Mrs. Samuel (Hannah Wizosky)\n",
      "876                     Najib, Miss. Adele Kiamie \"Jane\"\n",
      "880        Potter, Mrs. Thomas Jr (Lily Alexenia Wilson)\n",
      "881         Shelley, Mrs. William (Imanita Parrish Hall)\n",
      "883                         Dahlberg, Miss. Gerda Ulrika\n",
      "886                 Rice, Mrs. William (Margaret Norton)\n",
      "888                         Graham, Miss. Margaret Edith\n",
      "889             Johnston, Miss. Catherine Helen \"Carrie\"\n",
      "Name: Name, Length: 314, dtype: object\n"
     ]
    }
   ],
   "source": [
    "maleName = data[data.Sex=='female']['Name']\n",
    "print(maleName)"
   ]
  }
 ],
 "metadata": {
  "kernelspec": {
   "display_name": "Python 3",
   "language": "python",
   "name": "python3"
  },
  "language_info": {
   "codemirror_mode": {
    "name": "ipython",
    "version": 3
   },
   "file_extension": ".py",
   "mimetype": "text/x-python",
   "name": "python",
   "nbconvert_exporter": "python",
   "pygments_lexer": "ipython3",
   "version": "3.7.2"
  }
 },
 "nbformat": 4,
 "nbformat_minor": 2
}
