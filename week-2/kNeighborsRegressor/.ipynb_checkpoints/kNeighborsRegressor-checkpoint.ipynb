{
 "cells": [
  {
   "cell_type": "code",
   "execution_count": 1,
   "metadata": {},
   "outputs": [],
   "source": [
    "import pandas as pd\n",
    "import sklearn\n",
    "from numpy import linspace\n",
    "from sklearn.datasets import load_boston\n",
    "from sklearn.model_selection import KFold, cross_val_score\n",
    "from sklearn.neighbors import KNeighborsRegressor\n",
    "\n",
    "import sys\n",
    "sys.path.append(\"../..\")\n",
    "from write_answer import write_answer"
   ]
  },
  {
   "cell_type": "markdown",
   "metadata": {},
   "source": [
    "1. Загрузите выборку Boston с помощью функции sklearn.datasets.load_boston(). Результатом вызова данной функции\n",
    "является объект, у которого признаки записаны в поле data, а целевой вектор — в поле target."
   ]
  },
  {
   "cell_type": "code",
   "execution_count": 2,
   "metadata": {},
   "outputs": [],
   "source": [
    "data = load_boston()\n",
    "X = data.data\n",
    "y = data.target"
   ]
  },
  {
   "cell_type": "markdown",
   "metadata": {},
   "source": [
    "2. Приведите признаки в выборке к одному масштабу при помощи функции sklearn.preprocessing.scale."
   ]
  },
  {
   "cell_type": "code",
   "execution_count": 3,
   "metadata": {},
   "outputs": [],
   "source": [
    "X = sklearn.preprocessing.scale(X)"
   ]
  },
  {
   "cell_type": "markdown",
   "metadata": {},
   "source": [
    "3. Переберите разные варианты параметра метрики p по сетке от 1 до 10 с таким шагом, чтобы всего было протестировано\n",
    "200 вариантов (используйте функцию numpy.linspace). Используйте KNeighborsRegressor с n_neighbors=5 и\n",
    "weights='distance' — данный параметр добавляет в алгоритм веса, зависящие от расстояния до ближайших соседей.\n",
    "В качестве метрики качества используйте среднеквадратичную ошибку (параметр scoring='mean_squared_error' у\n",
    "cross_val_score). Качество оценивайте, как и в предыдущем задании, с помощью кросс-валидации по 5 блокам с\n",
    "random_state = 42, не забудьте включить перемешивание выборки (shuffle=True)."
   ]
  },
  {
   "cell_type": "code",
   "execution_count": 4,
   "metadata": {},
   "outputs": [],
   "source": [
    "def test_accuracy(kf, X, y):\n",
    "    scores = list()\n",
    "    p_range = linspace(1, 10, 200)\n",
    "    for p in p_range:\n",
    "        model = KNeighborsRegressor(p=p, n_neighbors=5, weights='distance')\n",
    "        scores.append(cross_val_score(model, X, y, cv=kf, scoring='neg_mean_squared_error'))\n",
    "        \n",
    "    return pd.DataFrame(scores, p_range).mean(axis=1).sort_values(ascending=False)     "
   ]
  },
  {
   "cell_type": "code",
   "execution_count": 5,
   "metadata": {},
   "outputs": [],
   "source": [
    "kf = KFold(n_splits=5, random_state=42, shuffle=True)"
   ]
  },
  {
   "cell_type": "code",
   "execution_count": 6,
   "metadata": {},
   "outputs": [
    {
     "name": "stdout",
     "output_type": "stream",
     "text": [
      "1.000000    -16.030647\n",
      "1.090452    -16.370697\n",
      "1.045226    -16.407839\n",
      "1.135678    -16.445716\n",
      "1.180905    -16.475058\n",
      "1.226131    -16.526432\n",
      "1.271357    -16.636709\n",
      "1.587940    -16.801327\n",
      "1.316583    -16.824224\n",
      "1.361809    -16.874209\n",
      "1.633166    -16.980745\n",
      "1.497487    -17.019360\n",
      "1.678392    -17.033459\n",
      "1.542714    -17.099132\n",
      "1.407035    -17.124899\n",
      "1.452261    -17.145232\n",
      "1.723618    -17.171642\n",
      "1.768844    -17.181679\n",
      "1.814070    -17.208264\n",
      "2.492462    -17.282257\n",
      "2.221106    -17.319503\n",
      "1.859296    -17.323680\n",
      "1.994975    -17.326039\n",
      "2.537688    -17.326365\n",
      "2.040201    -17.336967\n",
      "2.085427    -17.382649\n",
      "1.949749    -17.385662\n",
      "1.904523    -17.415119\n",
      "2.628141    -17.460237\n",
      "2.673367    -17.477436\n",
      "               ...    \n",
      "7.783920    -21.024029\n",
      "8.100503    -21.025588\n",
      "7.693467    -21.029703\n",
      "7.829146    -21.057853\n",
      "7.874372    -21.065642\n",
      "9.547739    -21.066155\n",
      "9.592965    -21.066512\n",
      "7.919598    -21.066985\n",
      "8.010050    -21.068183\n",
      "7.964824    -21.068482\n",
      "8.055276    -21.071035\n",
      "9.638191    -21.074814\n",
      "9.683417    -21.075721\n",
      "9.728643    -21.076615\n",
      "9.140704    -21.077466\n",
      "9.773869    -21.077498\n",
      "9.185930    -21.078517\n",
      "9.231156    -21.079037\n",
      "9.276382    -21.080059\n",
      "9.819095    -21.081264\n",
      "9.864322    -21.082127\n",
      "9.909548    -21.082979\n",
      "9.095477    -21.083361\n",
      "9.954774    -21.083819\n",
      "10.000000   -21.089703\n",
      "9.321608    -21.104978\n",
      "9.366834    -21.105843\n",
      "9.412060    -21.110568\n",
      "9.457286    -21.111525\n",
      "9.502513    -21.112469\n",
      "Length: 200, dtype: float64\n"
     ]
    }
   ],
   "source": [
    "accuracy = test_accuracy(kf, X, y)\n",
    "print(accuracy)   "
   ]
  },
  {
   "cell_type": "markdown",
   "metadata": {},
   "source": [
    "4. Определите, при каком p качество на кросс-валидации оказалось оптимальным (обратите внимание,\n",
    "что показатели качества, которые подсчитывает cross_val_score, необходимо максимизировать).\n",
    "Это значение параметра и будет ответом на задачу."
   ]
  },
  {
   "cell_type": "code",
   "execution_count": 7,
   "metadata": {},
   "outputs": [
    {
     "name": "stdout",
     "output_type": "stream",
     "text": [
      "Answer 1:  1.0\n"
     ]
    }
   ],
   "source": [
    "top_accuracy = accuracy.head(1)\n",
    "write_answer(1, top_accuracy.index[0])"
   ]
  }
 ],
 "metadata": {
  "kernelspec": {
   "display_name": "Python 3",
   "language": "python",
   "name": "python3"
  },
  "language_info": {
   "codemirror_mode": {
    "name": "ipython",
    "version": 3
   },
   "file_extension": ".py",
   "mimetype": "text/x-python",
   "name": "python",
   "nbconvert_exporter": "python",
   "pygments_lexer": "ipython3",
   "version": "3.7.2"
  }
 },
 "nbformat": 4,
 "nbformat_minor": 2
}
