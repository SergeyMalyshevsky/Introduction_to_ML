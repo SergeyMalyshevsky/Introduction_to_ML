{
 "cells": [
  {
   "cell_type": "code",
   "execution_count": 2,
   "metadata": {},
   "outputs": [],
   "source": [
    "import pandas as pd\n",
    "import sklearn\n",
    "from sklearn.model_selection import KFold, cross_val_score\n",
    "from sklearn.neighbors import KNeighborsClassifier"
   ]
  },
  {
   "cell_type": "code",
   "execution_count": null,
   "metadata": {},
   "outputs": [],
   "source": [
    "import sys\n",
    "sys.path.append(\"../..\")\n",
    "from write_answer import write_answer"
   ]
  },
  {
   "cell_type": "markdown",
   "metadata": {},
   "source": [
    "1. Загрузите выборку Wine по адресу https://archive.ics.uci.edu/ml/machine-learning-databases/wine/wine.data\n",
    "2. Извлеките из данных признаки и классы. Класс записан в первом столбце (три варианта), признаки — в столбцах\n",
    "со второго по последний. Более подробно о сути признаков можно прочитать по адресу\n",
    "https://archive.ics.uci.edu/ml/datasets/Wine"
   ]
  },
  {
   "cell_type": "code",
   "execution_count": 3,
   "metadata": {},
   "outputs": [
    {
     "data": {
      "text/html": [
       "<div>\n",
       "<style scoped>\n",
       "    .dataframe tbody tr th:only-of-type {\n",
       "        vertical-align: middle;\n",
       "    }\n",
       "\n",
       "    .dataframe tbody tr th {\n",
       "        vertical-align: top;\n",
       "    }\n",
       "\n",
       "    .dataframe thead th {\n",
       "        text-align: right;\n",
       "    }\n",
       "</style>\n",
       "<table border=\"1\" class=\"dataframe\">\n",
       "  <thead>\n",
       "    <tr style=\"text-align: right;\">\n",
       "      <th></th>\n",
       "      <th>0</th>\n",
       "      <th>1</th>\n",
       "      <th>2</th>\n",
       "      <th>3</th>\n",
       "      <th>4</th>\n",
       "      <th>5</th>\n",
       "      <th>6</th>\n",
       "      <th>7</th>\n",
       "      <th>8</th>\n",
       "      <th>9</th>\n",
       "      <th>10</th>\n",
       "      <th>11</th>\n",
       "      <th>12</th>\n",
       "      <th>13</th>\n",
       "    </tr>\n",
       "  </thead>\n",
       "  <tbody>\n",
       "    <tr>\n",
       "      <th>0</th>\n",
       "      <td>1</td>\n",
       "      <td>14.23</td>\n",
       "      <td>1.71</td>\n",
       "      <td>2.43</td>\n",
       "      <td>15.6</td>\n",
       "      <td>127</td>\n",
       "      <td>2.80</td>\n",
       "      <td>3.06</td>\n",
       "      <td>0.28</td>\n",
       "      <td>2.29</td>\n",
       "      <td>5.64</td>\n",
       "      <td>1.04</td>\n",
       "      <td>3.92</td>\n",
       "      <td>1065</td>\n",
       "    </tr>\n",
       "    <tr>\n",
       "      <th>1</th>\n",
       "      <td>1</td>\n",
       "      <td>13.20</td>\n",
       "      <td>1.78</td>\n",
       "      <td>2.14</td>\n",
       "      <td>11.2</td>\n",
       "      <td>100</td>\n",
       "      <td>2.65</td>\n",
       "      <td>2.76</td>\n",
       "      <td>0.26</td>\n",
       "      <td>1.28</td>\n",
       "      <td>4.38</td>\n",
       "      <td>1.05</td>\n",
       "      <td>3.40</td>\n",
       "      <td>1050</td>\n",
       "    </tr>\n",
       "    <tr>\n",
       "      <th>2</th>\n",
       "      <td>1</td>\n",
       "      <td>13.16</td>\n",
       "      <td>2.36</td>\n",
       "      <td>2.67</td>\n",
       "      <td>18.6</td>\n",
       "      <td>101</td>\n",
       "      <td>2.80</td>\n",
       "      <td>3.24</td>\n",
       "      <td>0.30</td>\n",
       "      <td>2.81</td>\n",
       "      <td>5.68</td>\n",
       "      <td>1.03</td>\n",
       "      <td>3.17</td>\n",
       "      <td>1185</td>\n",
       "    </tr>\n",
       "    <tr>\n",
       "      <th>3</th>\n",
       "      <td>1</td>\n",
       "      <td>14.37</td>\n",
       "      <td>1.95</td>\n",
       "      <td>2.50</td>\n",
       "      <td>16.8</td>\n",
       "      <td>113</td>\n",
       "      <td>3.85</td>\n",
       "      <td>3.49</td>\n",
       "      <td>0.24</td>\n",
       "      <td>2.18</td>\n",
       "      <td>7.80</td>\n",
       "      <td>0.86</td>\n",
       "      <td>3.45</td>\n",
       "      <td>1480</td>\n",
       "    </tr>\n",
       "    <tr>\n",
       "      <th>4</th>\n",
       "      <td>1</td>\n",
       "      <td>13.24</td>\n",
       "      <td>2.59</td>\n",
       "      <td>2.87</td>\n",
       "      <td>21.0</td>\n",
       "      <td>118</td>\n",
       "      <td>2.80</td>\n",
       "      <td>2.69</td>\n",
       "      <td>0.39</td>\n",
       "      <td>1.82</td>\n",
       "      <td>4.32</td>\n",
       "      <td>1.04</td>\n",
       "      <td>2.93</td>\n",
       "      <td>735</td>\n",
       "    </tr>\n",
       "  </tbody>\n",
       "</table>\n",
       "</div>"
      ],
      "text/plain": [
       "   0      1     2     3     4    5     6     7     8     9     10    11    12  \\\n",
       "0   1  14.23  1.71  2.43  15.6  127  2.80  3.06  0.28  2.29  5.64  1.04  3.92   \n",
       "1   1  13.20  1.78  2.14  11.2  100  2.65  2.76  0.26  1.28  4.38  1.05  3.40   \n",
       "2   1  13.16  2.36  2.67  18.6  101  2.80  3.24  0.30  2.81  5.68  1.03  3.17   \n",
       "3   1  14.37  1.95  2.50  16.8  113  3.85  3.49  0.24  2.18  7.80  0.86  3.45   \n",
       "4   1  13.24  2.59  2.87  21.0  118  2.80  2.69  0.39  1.82  4.32  1.04  2.93   \n",
       "\n",
       "     13  \n",
       "0  1065  \n",
       "1  1050  \n",
       "2  1185  \n",
       "3  1480  \n",
       "4   735  "
      ]
     },
     "execution_count": 3,
     "metadata": {},
     "output_type": "execute_result"
    }
   ],
   "source": [
    "df = pd.read_csv('wine.data', header=None)\n",
    "y = df[0]\n",
    "X = df.loc[:, 1:]\n",
    "df.head()"
   ]
  },
  {
   "cell_type": "markdown",
   "metadata": {},
   "source": [
    "3. Оценку качества необходимо провести методом кросс-валидации по 5 блокам (5-fold). Создайте генератор разбиений,\n",
    "который перемешивает выборку перед формированием блоков (shuffle=True). Для воспроизводимости результата,\n",
    "создавайте генератор KFold с фиксированным параметром random_state=42. В качестве меры качества используйте\n",
    "долю верных ответов (accuracy)."
   ]
  },
  {
   "cell_type": "code",
   "execution_count": 4,
   "metadata": {},
   "outputs": [],
   "source": [
    "kf = KFold(n_splits=5, random_state=42, shuffle=True)"
   ]
  },
  {
   "cell_type": "markdown",
   "metadata": {},
   "source": [
    "4. Найдите точность классификации на кросс-валидации для метода k ближайших соседей\n",
    "(sklearn.neighbors.KNeighborsClassifier), при k от 1 до 50. При каком k получилось оптимальное качество?\n",
    "Чему оно равно (число в интервале от 0 до 1)? Данные результаты и будут ответами на вопросы 1 и 2."
   ]
  },
  {
   "cell_type": "code",
   "execution_count": 5,
   "metadata": {},
   "outputs": [
    {
     "name": "stdout",
     "output_type": "stream",
     "text": [
      "Number of neighbors    Accuracy\n",
      "1     0.730476\n",
      "35    0.724603\n",
      "34    0.724603\n",
      "48    0.719048\n",
      "36    0.713492\n",
      "29    0.713492\n",
      "32    0.713492\n",
      "33    0.713492\n",
      "41    0.713492\n",
      "38    0.713492\n",
      "37    0.713492\n",
      "3     0.708254\n",
      "28    0.707937\n",
      "30    0.707937\n",
      "39    0.707937\n",
      "50    0.707778\n",
      "40    0.707778\n",
      "43    0.707778\n",
      "44    0.707778\n",
      "45    0.707778\n",
      "46    0.707778\n",
      "42    0.707778\n",
      "24    0.707619\n",
      "11    0.702540\n",
      "9     0.702381\n",
      "23    0.702063\n",
      "15    0.701905\n",
      "21    0.701905\n",
      "25    0.701905\n",
      "17    0.701587\n",
      "47    0.696667\n",
      "12    0.696667\n",
      "49    0.696667\n",
      "26    0.696508\n",
      "22    0.696508\n",
      "27    0.696349\n",
      "31    0.690952\n",
      "13    0.690952\n",
      "20    0.690952\n",
      "10    0.680159\n",
      "7     0.680000\n",
      "8     0.680000\n",
      "16    0.679524\n",
      "18    0.679524\n",
      "14    0.679365\n",
      "19    0.679365\n",
      "5     0.674603\n",
      "6     0.674286\n",
      "2     0.662540\n",
      "4     0.657778\n",
      "dtype: float64\n"
     ]
    }
   ],
   "source": [
    "def test_accuracy(kf, X, y):\n",
    "    scores = list()\n",
    "    k_range = range(1, 51)\n",
    "    for k in k_range:\n",
    "        model = KNeighborsClassifier(n_neighbors=k)\n",
    "        scores.append(cross_val_score(model, X, y, cv=kf, scoring='accuracy'))\n",
    "\n",
    "    return pd.DataFrame(scores, k_range).mean(axis=1).sort_values(ascending=False)\n",
    "\n",
    "\n",
    "accuracy = test_accuracy(kf, X, y)\n",
    "print('Number of neighbors    Accuracy')\n",
    "print(accuracy)"
   ]
  },
  {
   "cell_type": "code",
   "execution_count": 6,
   "metadata": {},
   "outputs": [
    {
     "name": "stdout",
     "output_type": "stream",
     "text": [
      "Answer 1:  1\n",
      "Answer 2:  0.7304761904761905\n"
     ]
    }
   ],
   "source": [
    "top_accuracy = accuracy.head(1)\n",
    "write_answer(1, top_accuracy.index[0])\n",
    "write_answer(2, top_accuracy.values[0])"
   ]
  },
  {
   "cell_type": "markdown",
   "metadata": {},
   "source": [
    "5. Произведите масштабирование признаков с помощью функции sklearn.preprocessing.scale.\n",
    "Снова найдите оптимальное k на кросс-валидации."
   ]
  },
  {
   "cell_type": "code",
   "execution_count": 8,
   "metadata": {},
   "outputs": [
    {
     "name": "stdout",
     "output_type": "stream",
     "text": [
      "Number of neighbors    Accuracy\n",
      "29    0.977619\n",
      "16    0.972063\n",
      "15    0.972063\n",
      "18    0.966508\n",
      "17    0.966508\n",
      "20    0.966508\n",
      "22    0.966508\n",
      "14    0.966349\n",
      "28    0.966349\n",
      "33    0.966349\n",
      "34    0.966349\n",
      "43    0.966349\n",
      "41    0.966349\n",
      "45    0.966349\n",
      "21    0.960952\n",
      "11    0.960952\n",
      "23    0.960952\n",
      "38    0.960794\n",
      "9     0.960794\n",
      "10    0.960794\n",
      "26    0.960794\n",
      "39    0.960794\n",
      "42    0.960794\n",
      "30    0.960794\n",
      "32    0.960794\n",
      "40    0.960794\n",
      "35    0.960794\n",
      "36    0.960794\n",
      "44    0.960635\n",
      "50    0.960635\n",
      "19    0.955397\n",
      "12    0.955238\n",
      "8     0.955238\n",
      "25    0.955238\n",
      "24    0.955238\n",
      "27    0.955238\n",
      "31    0.955238\n",
      "37    0.955238\n",
      "49    0.955079\n",
      "47    0.955079\n",
      "3     0.955079\n",
      "46    0.949524\n",
      "48    0.949524\n",
      "7     0.949524\n",
      "6     0.949524\n",
      "13    0.949524\n",
      "5     0.949365\n",
      "1     0.943968\n",
      "4     0.938254\n",
      "2     0.932857\n",
      "dtype: float64\n"
     ]
    }
   ],
   "source": [
    "X = sklearn.preprocessing.scale(X)\n",
    "accuracy = test_accuracy(kf, X, y)\n",
    "print('Number of neighbors    Accuracy')\n",
    "print(accuracy)"
   ]
  },
  {
   "cell_type": "markdown",
   "metadata": {},
   "source": [
    "6. Какое значение k получилось оптимальным после приведения признаков к одному масштабу?\n",
    "Приведите ответы на вопросы 3 и 4. Помогло ли масштабирование признаков?"
   ]
  },
  {
   "cell_type": "code",
   "execution_count": 9,
   "metadata": {},
   "outputs": [
    {
     "name": "stdout",
     "output_type": "stream",
     "text": [
      "Answer 3:  29\n",
      "Answer 4:  0.9776190476190475\n"
     ]
    }
   ],
   "source": [
    "top_accuracy = accuracy.head(1)\n",
    "write_answer(3, top_accuracy.index[0])\n",
    "write_answer(4, top_accuracy.values[0])"
   ]
  }
 ],
 "metadata": {
  "kernelspec": {
   "display_name": "Python 3",
   "language": "python",
   "name": "python3"
  },
  "language_info": {
   "codemirror_mode": {
    "name": "ipython",
    "version": 3
   },
   "file_extension": ".py",
   "mimetype": "text/x-python",
   "name": "python",
   "nbconvert_exporter": "python",
   "pygments_lexer": "ipython3",
   "version": "3.7.2"
  }
 },
 "nbformat": 4,
 "nbformat_minor": 2
}
