{
 "cells": [
  {
   "cell_type": "code",
   "execution_count": 1,
   "metadata": {},
   "outputs": [],
   "source": [
    "import pandas\n",
    "from sklearn.decomposition import PCA\n",
    "from numpy import corrcoef"
   ]
  },
  {
   "cell_type": "code",
   "execution_count": 2,
   "metadata": {},
   "outputs": [],
   "source": [
    "import sys\n",
    "sys.path.append(\"../..\")\n",
    "from write_answer import write_answer"
   ]
  },
  {
   "cell_type": "markdown",
   "metadata": {},
   "source": [
    "1. Загрузите данные close_prices.csv. В этом файле приведены цены акций 30 компаний на закрытии торгов за каждый\n",
    "день периода."
   ]
  },
  {
   "cell_type": "code",
   "execution_count": 3,
   "metadata": {},
   "outputs": [],
   "source": [
    "df = pandas.read_csv('close_prices.csv')\n",
    "X = df.loc[:, 'AXP':]"
   ]
  },
  {
   "cell_type": "markdown",
   "metadata": {},
   "source": [
    "2. На загруженных данных обучите преобразование PCA с числом компоненты равным 10. Скольких компонент хватит,\n",
    "чтобы объяснить 90% дисперсии?\n"
   ]
  },
  {
   "cell_type": "code",
   "execution_count": 4,
   "metadata": {},
   "outputs": [
    {
     "name": "stdout",
     "output_type": "stream",
     "text": [
      "Answer 1:  4\n"
     ]
    }
   ],
   "source": [
    "pca = PCA(n_components=10)\n",
    "pca.fit(X.values)\n",
    "\n",
    "var = 0\n",
    "n_var = 0\n",
    "for v in pca.explained_variance_ratio_:\n",
    "    n_var += 1\n",
    "    var += v\n",
    "    if var >= 0.9:\n",
    "        break\n",
    "\n",
    "write_answer(1, n_var)"
   ]
  },
  {
   "cell_type": "markdown",
   "metadata": {},
   "source": [
    "3. Примените построенное преобразование к исходным данным и возьмите значения первой компоненты."
   ]
  },
  {
   "cell_type": "code",
   "execution_count": 5,
   "metadata": {},
   "outputs": [],
   "source": [
    "df_comp = pandas.DataFrame(pca.transform(X))\n",
    "comp0 = df_comp[0]"
   ]
  },
  {
   "cell_type": "markdown",
   "metadata": {},
   "source": [
    "4. Загрузите информацию об индексе Доу-Джонса из файла djia_index.csv. Чему равна корреляция Пирсона между первой\n",
    "компонентой и индексом Доу-Джонса?\n"
   ]
  },
  {
   "cell_type": "code",
   "execution_count": 6,
   "metadata": {},
   "outputs": [
    {
     "name": "stdout",
     "output_type": "stream",
     "text": [
      "Answer 2:  0.9096522193050236\n"
     ]
    }
   ],
   "source": [
    "df2 = pandas.read_csv('djia_index.csv')\n",
    "dji = df2['^DJI']\n",
    "corr = corrcoef(comp0, dji)\n",
    "write_answer(2, corr[1, 0])"
   ]
  },
  {
   "cell_type": "markdown",
   "metadata": {},
   "source": [
    "5. Какая компания имеет наибольший вес в первой компоненте? Укажите ее название с большой буквы."
   ]
  },
  {
   "cell_type": "code",
   "execution_count": 7,
   "metadata": {},
   "outputs": [
    {
     "name": "stdout",
     "output_type": "stream",
     "text": [
      "Answer 3:  V\n"
     ]
    }
   ],
   "source": [
    "comp0_w = pandas.Series(pca.components_[0])\n",
    "comp0_w_top = comp0_w.sort_values(ascending=False).head(1).index[0]\n",
    "company = X.columns[comp0_w_top]\n",
    "write_answer(3, company)"
   ]
  }
 ],
 "metadata": {
  "kernelspec": {
   "display_name": "Python 3",
   "language": "python",
   "name": "python3"
  },
  "language_info": {
   "codemirror_mode": {
    "name": "ipython",
    "version": 3
   },
   "file_extension": ".py",
   "mimetype": "text/x-python",
   "name": "python",
   "nbconvert_exporter": "python",
   "pygments_lexer": "ipython3",
   "version": "3.7.2"
  }
 },
 "nbformat": 4,
 "nbformat_minor": 2
}
