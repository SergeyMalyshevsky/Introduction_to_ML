{
 "cells": [
  {
   "cell_type": "code",
   "execution_count": 7,
   "metadata": {},
   "outputs": [
    {
     "name": "stdout",
     "output_type": "stream",
     "text": [
      "Collecting scikit-image\n",
      "  Downloading https://files.pythonhosted.org/packages/25/83/81b003d891699648b75f6ac20a1c6f2910dbcee9934cb043b95cc67dce79/scikit_image-0.14.2-cp37-none-win32.whl (24.0MB)\n",
      "Requirement already satisfied: six>=1.10.0 in e:\\python\\introduction_to_ml\\venv\\lib\\site-packages (from scikit-image) (1.12.0)\n",
      "Collecting dask[array]>=1.0.0 (from scikit-image)\n",
      "  Downloading https://files.pythonhosted.org/packages/a3/79/41d27ad703e782a422636dc8e0ce2f7624ef541b7219bd93a4af0b0d799c/dask-1.1.3-py2.py3-none-any.whl (703kB)\n",
      "Collecting pillow>=4.3.0 (from scikit-image)\n",
      "  Downloading https://files.pythonhosted.org/packages/d7/ea/46fd5bd57c5df5a2e79e508294acec4be0fcc2fb3ce95c2cf1038ebaa533/Pillow-5.4.1-cp37-cp37m-win32.whl (1.7MB)\n",
      "Collecting networkx>=1.8 (from scikit-image)\n",
      "  Downloading https://files.pythonhosted.org/packages/f3/f4/7e20ef40b118478191cec0b58c3192f822cace858c19505c7670961b76b2/networkx-2.2.zip (1.7MB)\n",
      "Collecting cloudpickle>=0.2.1 (from scikit-image)\n",
      "  Downloading https://files.pythonhosted.org/packages/47/d5/efa7cacef5d3bdcd71d7053a698fb9b64a20fff5cb3c592efefa53ea5578/cloudpickle-0.8.0-py2.py3-none-any.whl\n",
      "Collecting PyWavelets>=0.4.0 (from scikit-image)\n",
      "  Downloading https://files.pythonhosted.org/packages/b7/a4/6441d00b58e41c0ca5bc497937efbac928cd42e6d1fa27dc81fe86a15446/PyWavelets-1.0.2-cp37-none-win32.whl (4.1MB)\n",
      "Requirement already satisfied: numpy>=1.11.0; extra == \"array\" in e:\\python\\introduction_to_ml\\venv\\lib\\site-packages (from dask[array]>=1.0.0->scikit-image) (1.16.1)\n",
      "Collecting toolz>=0.7.3; extra == \"array\" (from dask[array]>=1.0.0->scikit-image)\n",
      "  Downloading https://files.pythonhosted.org/packages/14/d0/a73c15bbeda3d2e7b381a36afb0d9cd770a9f4adc5d1532691013ba881db/toolz-0.9.0.tar.gz (45kB)\n",
      "Requirement already satisfied: decorator>=4.3.0 in e:\\python\\introduction_to_ml\\venv\\lib\\site-packages (from networkx>=1.8->scikit-image) (4.3.2)\n",
      "Installing collected packages: toolz, dask, pillow, networkx, cloudpickle, PyWavelets, scikit-image\n",
      "  Running setup.py install for toolz: started\n",
      "    Running setup.py install for toolz: finished with status 'done'\n",
      "  Running setup.py install for networkx: started\n",
      "    Running setup.py install for networkx: finished with status 'done'\n",
      "Successfully installed PyWavelets-1.0.2 cloudpickle-0.8.0 dask-1.1.3 networkx-2.2 pillow-5.4.1 scikit-image-0.14.2 toolz-0.9.0\n"
     ]
    }
   ],
   "source": [
    "!pip install scikit-image"
   ]
  },
  {
   "cell_type": "code",
   "execution_count": 8,
   "metadata": {},
   "outputs": [],
   "source": [
    "import math\n",
    "import pandas\n",
    "import numpy as np\n",
    "from skimage import img_as_float\n",
    "from skimage.io import imread, imsave\n",
    "from sklearn.cluster import KMeans"
   ]
  },
  {
   "cell_type": "code",
   "execution_count": 9,
   "metadata": {},
   "outputs": [],
   "source": [
    "import sys\n",
    "sys.path.append(\"../..\")\n",
    "from write_answer import write_answer"
   ]
  },
  {
   "cell_type": "markdown",
   "metadata": {},
   "source": [
    "1. Загрузите картинку parrots.jpg. Преобразуйте изображение, приведя все значения в интервал от 0 до 1.\n",
    "Для этого можно воспользоваться функцией img_as_float из модуля skimage."
   ]
  },
  {
   "cell_type": "code",
   "execution_count": 10,
   "metadata": {},
   "outputs": [],
   "source": [
    "image = img_as_float(imread('parrots.jpg'))\n",
    "w, h, d = image.shape"
   ]
  },
  {
   "cell_type": "markdown",
   "metadata": {},
   "source": [
    "2. Создайте матрицу объекты-признаки: характеризуйте каждый пиксель тремя координатами - значениями интенсивности\n",
    "в пространстве RGB."
   ]
  },
  {
   "cell_type": "code",
   "execution_count": 11,
   "metadata": {},
   "outputs": [],
   "source": [
    "pixels = pandas.DataFrame(np.reshape(image, (w*h, d)), columns=['R', 'G', 'B'])"
   ]
  },
  {
   "cell_type": "markdown",
   "metadata": {},
   "source": [
    "3. Запустите алгоритм K-Means с параметрами init='k-means++' и random_state=241. После выделения кластеров все\n",
    "пиксели, отнесенные в один кластер, попробуйте заполнить двумя способами: медианным и средним цветом по кластеру."
   ]
  },
  {
   "cell_type": "code",
   "execution_count": 13,
   "metadata": {},
   "outputs": [],
   "source": [
    "def cluster(pixels, n_clusters=8):\n",
    "    print('Clustering: ' + str(n_clusters))\n",
    "\n",
    "    pixels = pixels.copy()\n",
    "    model = KMeans(n_clusters=n_clusters, init='k-means++', random_state=241)\n",
    "    pixels['cluster'] = model.fit_predict(pixels)\n",
    "\n",
    "    means = pixels.groupby('cluster').mean().values\n",
    "    mean_pixels = [means[c] for c in pixels['cluster'].values]\n",
    "    mean_image = np.reshape(mean_pixels, (w, h, d))\n",
    "    imsave('images/mean/parrots_' + str(n_clusters) + '.jpg', mean_image)\n",
    "\n",
    "    medians = pixels.groupby('cluster').median().values\n",
    "    median_pixels = [medians[c] for c in pixels['cluster'].values]\n",
    "    median_image = np.reshape(median_pixels, (w, h, d))\n",
    "    imsave('images/median/parrots_' + str(n_clusters) + '.jpg', median_image)\n",
    "\n",
    "    return mean_image, median_image"
   ]
  },
  {
   "cell_type": "markdown",
   "metadata": {},
   "source": [
    "4. Измерьте качество получившейся сегментации с помощью метрики PSNR. Эту метрику нужно реализовать\n",
    "самостоятельно (см. определение)."
   ]
  },
  {
   "cell_type": "code",
   "execution_count": 14,
   "metadata": {},
   "outputs": [],
   "source": [
    "def psnr(image1, image2):\n",
    "    mse = np.mean((image1 - image2) ** 2)\n",
    "    return 10 * math.log10(float(1) / mse)"
   ]
  },
  {
   "cell_type": "markdown",
   "metadata": {},
   "source": [
    "5. Найдите минимальное количество кластеров, при котором значение PSNR выше 20 (можно рассмотреть\n",
    "не более 20кластеров). Это число и будет ответом в данной задаче."
   ]
  },
  {
   "cell_type": "code",
   "execution_count": 17,
   "metadata": {},
   "outputs": [
    {
     "name": "stdout",
     "output_type": "stream",
     "text": [
      "Clustering: 1\n"
     ]
    },
    {
     "name": "stderr",
     "output_type": "stream",
     "text": [
      "e:\\python\\introduction_to_ml\\venv\\lib\\site-packages\\skimage\\io\\_io.py:140: UserWarning: images/mean/parrots_1.jpg is a low contrast image\n",
      "  warn('%s is a low contrast image' % fname)\n",
      "e:\\python\\introduction_to_ml\\venv\\lib\\site-packages\\skimage\\util\\dtype.py:141: UserWarning: Possible precision loss when converting from float64 to uint8\n",
      "  .format(dtypeobj_in, dtypeobj_out))\n",
      "e:\\python\\introduction_to_ml\\venv\\lib\\site-packages\\skimage\\io\\_io.py:140: UserWarning: images/median/parrots_1.jpg is a low contrast image\n",
      "  warn('%s is a low contrast image' % fname)\n"
     ]
    },
    {
     "name": "stdout",
     "output_type": "stream",
     "text": [
      "9.83775889535693 9.460408259198367\n",
      "Clustering: 2\n"
     ]
    },
    {
     "name": "stderr",
     "output_type": "stream",
     "text": [
      "e:\\python\\introduction_to_ml\\venv\\lib\\site-packages\\skimage\\util\\dtype.py:141: UserWarning: Possible precision loss when converting from float64 to uint8\n",
      "  .format(dtypeobj_in, dtypeobj_out))\n"
     ]
    },
    {
     "name": "stdout",
     "output_type": "stream",
     "text": [
      "12.112044943266213 11.683052005520251\n",
      "Clustering: 3\n"
     ]
    },
    {
     "name": "stderr",
     "output_type": "stream",
     "text": [
      "e:\\python\\introduction_to_ml\\venv\\lib\\site-packages\\skimage\\util\\dtype.py:141: UserWarning: Possible precision loss when converting from float64 to uint8\n",
      "  .format(dtypeobj_in, dtypeobj_out))\n"
     ]
    },
    {
     "name": "stdout",
     "output_type": "stream",
     "text": [
      "13.176054526387446 12.806994450919483\n",
      "Clustering: 4\n"
     ]
    },
    {
     "name": "stderr",
     "output_type": "stream",
     "text": [
      "e:\\python\\introduction_to_ml\\venv\\lib\\site-packages\\skimage\\util\\dtype.py:141: UserWarning: Possible precision loss when converting from float64 to uint8\n",
      "  .format(dtypeobj_in, dtypeobj_out))\n"
     ]
    },
    {
     "name": "stdout",
     "output_type": "stream",
     "text": [
      "14.394316316187174 14.042908374073328\n",
      "Clustering: 5\n"
     ]
    },
    {
     "name": "stderr",
     "output_type": "stream",
     "text": [
      "e:\\python\\introduction_to_ml\\venv\\lib\\site-packages\\skimage\\util\\dtype.py:141: UserWarning: Possible precision loss when converting from float64 to uint8\n",
      "  .format(dtypeobj_in, dtypeobj_out))\n"
     ]
    },
    {
     "name": "stdout",
     "output_type": "stream",
     "text": [
      "15.560064935054307 15.20475940340906\n",
      "Clustering: 6\n"
     ]
    },
    {
     "name": "stderr",
     "output_type": "stream",
     "text": [
      "e:\\python\\introduction_to_ml\\venv\\lib\\site-packages\\skimage\\util\\dtype.py:141: UserWarning: Possible precision loss when converting from float64 to uint8\n",
      "  .format(dtypeobj_in, dtypeobj_out))\n"
     ]
    },
    {
     "name": "stdout",
     "output_type": "stream",
     "text": [
      "16.572729563941955 16.082260425341982\n",
      "Clustering: 7\n"
     ]
    },
    {
     "name": "stderr",
     "output_type": "stream",
     "text": [
      "e:\\python\\introduction_to_ml\\venv\\lib\\site-packages\\skimage\\util\\dtype.py:141: UserWarning: Possible precision loss when converting from float64 to uint8\n",
      "  .format(dtypeobj_in, dtypeobj_out))\n"
     ]
    },
    {
     "name": "stdout",
     "output_type": "stream",
     "text": [
      "17.671933952742613 17.366122367791768\n",
      "Clustering: 8\n"
     ]
    },
    {
     "name": "stderr",
     "output_type": "stream",
     "text": [
      "e:\\python\\introduction_to_ml\\venv\\lib\\site-packages\\skimage\\util\\dtype.py:141: UserWarning: Possible precision loss when converting from float64 to uint8\n",
      "  .format(dtypeobj_in, dtypeobj_out))\n"
     ]
    },
    {
     "name": "stdout",
     "output_type": "stream",
     "text": [
      "18.46817676615206 18.17873284515587\n",
      "Clustering: 9\n"
     ]
    },
    {
     "name": "stderr",
     "output_type": "stream",
     "text": [
      "e:\\python\\introduction_to_ml\\venv\\lib\\site-packages\\skimage\\util\\dtype.py:141: UserWarning: Possible precision loss when converting from float64 to uint8\n",
      "  .format(dtypeobj_in, dtypeobj_out))\n"
     ]
    },
    {
     "name": "stdout",
     "output_type": "stream",
     "text": [
      "19.144937024096436 18.851219048548113\n",
      "Clustering: 10\n"
     ]
    },
    {
     "name": "stderr",
     "output_type": "stream",
     "text": [
      "e:\\python\\introduction_to_ml\\venv\\lib\\site-packages\\skimage\\util\\dtype.py:141: UserWarning: Possible precision loss when converting from float64 to uint8\n",
      "  .format(dtypeobj_in, dtypeobj_out))\n"
     ]
    },
    {
     "name": "stdout",
     "output_type": "stream",
     "text": [
      "19.67559576912612 19.449658064467396\n",
      "Clustering: 11\n"
     ]
    },
    {
     "name": "stderr",
     "output_type": "stream",
     "text": [
      "e:\\python\\introduction_to_ml\\venv\\lib\\site-packages\\skimage\\util\\dtype.py:141: UserWarning: Possible precision loss when converting from float64 to uint8\n",
      "  .format(dtypeobj_in, dtypeobj_out))\n"
     ]
    },
    {
     "name": "stdout",
     "output_type": "stream",
     "text": [
      "20.163784258757737 19.88591903608144\n",
      "Answer 1:  11\n"
     ]
    }
   ],
   "source": [
    "for n in range(1, 21):\n",
    "    mean_image, median_image = cluster(pixels, n)\n",
    "    psnr_mean, psnr_median = psnr(image, mean_image), psnr(image, median_image)\n",
    "    print(psnr_mean, psnr_median)\n",
    "\n",
    "    if psnr_mean > 20 or psnr_median > 20:\n",
    "        write_answer(1, n)\n",
    "        break"
   ]
  }
 ],
 "metadata": {
  "kernelspec": {
   "display_name": "Python 3",
   "language": "python",
   "name": "python3"
  },
  "language_info": {
   "codemirror_mode": {
    "name": "ipython",
    "version": 3
   },
   "file_extension": ".py",
   "mimetype": "text/x-python",
   "name": "python",
   "nbconvert_exporter": "python",
   "pygments_lexer": "ipython3",
   "version": "3.7.2"
  }
 },
 "nbformat": 4,
 "nbformat_minor": 2
}
