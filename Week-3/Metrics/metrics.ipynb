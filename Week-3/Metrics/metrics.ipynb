{
 "cells": [
  {
   "cell_type": "code",
   "execution_count": 2,
   "metadata": {},
   "outputs": [],
   "source": [
    "import pandas\n",
    "import sklearn.metrics as metrics"
   ]
  },
  {
   "cell_type": "code",
   "execution_count": 4,
   "metadata": {},
   "outputs": [],
   "source": [
    "import sys\n",
    "sys.path.append(\"../..\")\n",
    "from write_answer import write_answer"
   ]
  },
  {
   "cell_type": "markdown",
   "metadata": {},
   "source": [
    "1. Загрузите файл classification.csv. В нем записаны истинные классы объектов выборки (колонка true) и ответы\n",
    "некоторого классификатора (колонка predicted)."
   ]
  },
  {
   "cell_type": "code",
   "execution_count": 5,
   "metadata": {},
   "outputs": [],
   "source": [
    "df = pandas.read_csv('classification.csv')"
   ]
  },
  {
   "cell_type": "markdown",
   "metadata": {},
   "source": [
    "2. Заполните таблицу ошибок классификации. Для этого подсчитайте величины TP, FP, FN и TN согласно их определениям.\n",
    "Например, FP — это количество объектов, имеющих класс 0, но отнесенных алгоритмом к классу 1.\n",
    "Ответ в данном вопросе — четыре числа через пробел.\n"
   ]
  },
  {
   "cell_type": "code",
   "execution_count": 7,
   "metadata": {},
   "outputs": [
    {
     "name": "stdout",
     "output_type": "stream",
     "text": [
      "Answer 1:  43 34 59 64\n"
     ]
    }
   ],
   "source": [
    "clf_table = {'tp': (1, 1), 'fp': (0, 1), 'fn': (1, 0), 'tn': (0, 0)}\n",
    "for name, res in clf_table.items():\n",
    "    clf_table[name] = len(df[(df['true'] == res[0]) & (df['pred'] == res[1])])\n",
    "\n",
    "write_answer(1, '{tp} {fp} {fn} {tn}'.format(**clf_table))"
   ]
  },
  {
   "cell_type": "markdown",
   "metadata": {},
   "source": [
    "3. Посчитайте основные метрики качества классификатора:"
   ]
  },
  {
   "cell_type": "code",
   "execution_count": 8,
   "metadata": {},
   "outputs": [],
   "source": [
    "# Accuracy (доля верно угаданных) — sklearn.metrics.accuracy_score\n",
    "acc = metrics.accuracy_score(df['true'], df['pred'])"
   ]
  },
  {
   "cell_type": "code",
   "execution_count": 9,
   "metadata": {},
   "outputs": [],
   "source": [
    "# Precision (точность) — sklearn.metrics.precision_score\n",
    "pr = metrics.precision_score(df['true'], df['pred'])"
   ]
  },
  {
   "cell_type": "code",
   "execution_count": 10,
   "metadata": {},
   "outputs": [],
   "source": [
    "# Recall (полнота) — sklearn.metrics.recall_score\n",
    "rec = metrics.recall_score(df['true'], df['pred'])"
   ]
  },
  {
   "cell_type": "code",
   "execution_count": 11,
   "metadata": {},
   "outputs": [],
   "source": [
    "# F-мера — sklearn.metrics.f1_score\n",
    "f1 = metrics.f1_score(df['true'], df['pred'])"
   ]
  },
  {
   "cell_type": "code",
   "execution_count": 12,
   "metadata": {},
   "outputs": [
    {
     "name": "stdout",
     "output_type": "stream",
     "text": [
      "Answer 2:  0.54 0.56 0.42 0.48\n"
     ]
    }
   ],
   "source": [
    "# В качестве ответа укажите эти четыре числа через пробел.\n",
    "write_answer(2, '{:0.2f} {:0.2f} {:0.2f} {:0.2f}'.format(acc, pr, rec, f1))"
   ]
  },
  {
   "cell_type": "markdown",
   "metadata": {},
   "source": [
    "4. Имеется четыре обученных классификатора. В файле scores.csv записаны истинные классы и значения степени\n",
    "принадлежности положительному классу для каждого классификатора на некоторой выборке:\n",
    "для логистической регрессии — вероятность положительного класса (колонка score_logreg),\n",
    "для SVM — отступ от разделяющей поверхности (колонка score_svm),\n",
    "для метрического алгоритма — взвешенная сумма классов соседей (колонка score_knn),\n",
    "для решающего дерева — доля положительных объектов в листе (колонка score_tree).\n",
    "Загрузите этот файл."
   ]
  },
  {
   "cell_type": "code",
   "execution_count": 13,
   "metadata": {},
   "outputs": [],
   "source": [
    "df2 = pandas.read_csv('scores.csv')"
   ]
  },
  {
   "cell_type": "markdown",
   "metadata": {},
   "source": [
    "5. Посчитайте площадь под ROC-кривой для каждого классификатора. Какой классификатор имеет наибольшее значение\n",
    "метрики AUC-ROC (укажите название столбца с ответами этого классификатора)?\n",
    "Воспользуйтесь функцией sklearn.metrics.roc_auc_score."
   ]
  },
  {
   "cell_type": "code",
   "execution_count": 14,
   "metadata": {},
   "outputs": [
    {
     "name": "stdout",
     "output_type": "stream",
     "text": [
      "Answer 3:  score_logreg\n"
     ]
    }
   ],
   "source": [
    "scores = {}\n",
    "for clf in df2.columns[1:]:\n",
    "    scores[clf] = metrics.roc_auc_score(df2['true'], df2[clf])\n",
    "\n",
    "write_answer(3, pandas.Series(scores).sort_values(ascending=False).head(1).index[0])"
   ]
  },
  {
   "cell_type": "markdown",
   "metadata": {},
   "source": [
    "6. Какой классификатор достигает наибольшей точности (Precision) при полноте (Recall) не менее 70% ?\n",
    "Какое значение точности при этом получается? Чтобы получить ответ на этот вопрос, найдите все точки\n",
    "precision-recall-кривой с помощью функции sklearn.metrics.precision_recall_curve. Она возвращает три массива:\n",
    "precision, recall, thresholds. В них записаны точность и полнота при определенных порогах,указанных в массиве\n",
    "thresholds. Найдите максимальной значение точности среди тех записей, для которых полнота не меньше, чем 0.7.\n"
   ]
  },
  {
   "cell_type": "code",
   "execution_count": 15,
   "metadata": {},
   "outputs": [
    {
     "name": "stdout",
     "output_type": "stream",
     "text": [
      "Answer 4:  score_tree\n"
     ]
    }
   ],
   "source": [
    "pr_scores = {}\n",
    "for clf in df2.columns[1:]:\n",
    "    pr_curve = metrics.precision_recall_curve(df2['true'], df2[clf])\n",
    "    pr_curve_df = pandas.DataFrame({'precision': pr_curve[0], 'recall': pr_curve[1]})\n",
    "    pr_scores[clf] = pr_curve_df[pr_curve_df['recall'] >= 0.7]['precision'].max()\n",
    "\n",
    "write_answer(4, pandas.Series(pr_scores).sort_values(ascending=False).head(1).index[0])"
   ]
  }
 ],
 "metadata": {
  "kernelspec": {
   "display_name": "Python 3",
   "language": "python",
   "name": "python3"
  },
  "language_info": {
   "codemirror_mode": {
    "name": "ipython",
    "version": 3
   },
   "file_extension": ".py",
   "mimetype": "text/x-python",
   "name": "python",
   "nbconvert_exporter": "python",
   "pygments_lexer": "ipython3",
   "version": "3.7.2"
  }
 },
 "nbformat": 4,
 "nbformat_minor": 2
}
